{
  "nbformat": 4,
  "nbformat_minor": 0,
  "metadata": {
    "colab": {
      "provenance": [],
      "authorship_tag": "ABX9TyOAKaXCQ3PActvNpKwC6hJv",
      "include_colab_link": true
    },
    "kernelspec": {
      "name": "python3",
      "display_name": "Python 3"
    },
    "language_info": {
      "name": "python"
    }
  },
  "cells": [
    {
      "cell_type": "markdown",
      "metadata": {
        "id": "view-in-github",
        "colab_type": "text"
      },
      "source": [
        "<a href=\"https://colab.research.google.com/github/tomcat472/geopandas_myanmar/blob/main/geopandas_2023_part01.ipynb\" target=\"_parent\"><img src=\"https://colab.research.google.com/assets/colab-badge.svg\" alt=\"Open In Colab\"/></a>"
      ]
    },
    {
      "cell_type": "code",
      "execution_count": 1,
      "metadata": {
        "id": "JmD6FshgqlhV"
      },
      "outputs": [],
      "source": [
        "# geopandas မှာ အဓိက data structures ၂ မျိုးရှိပါတယ်။\n",
        "# သူတို့က GeoSeries နဲ့ GeoDataFrame တို့ဖြစ်ပါတယ်။\n",
        "# GeoSeries ဟာ တကယ်က vector data တွေပါတဲ့ entry တစ်ခုဖြစ်ပါတယ်။\n",
        "# သူ့ဆီမှာ shape တွေ တစ်ခုအထက်ပါဝင်နိုင်ပါတယ်။\n",
        "# Geopandas မှာ three basic classes of geometric objects တွေရှိပါတယ်။\n",
        "# သူတို့ကတော့ 1) Points/Multi-Points 2) Lines/Multi-Lines နဲ့ Polygons/ Multipolygons တို့ဖြစ်ပါတယ်။\n",
        "# တစ်ခုမှတ်ထားရမှာက GeoSeries မှာပါတဲ့ entries တွေဟာ same geometric type ဖြစ်စရာမလိုပါဘူး။\n",
        "# GeoSeries တစ်ခုမှာ shapely ရဲ့ Attributes တွေနဲ့ Methods တွေပါဝင်ပါတယ်။\n",
        "# GeoDataFrame ကတော့ GeoSeries တွေပါဝင်တဲ့ tabular data structure ဖြစ်ပါတယ်။"
      ]
    },
    {
      "cell_type": "code",
      "source": [
        "# geopandas ကို စသုံးဖို့အတွက် import ပြုလုပ်ရပါမယ်။\n",
        "import geopandas as gpd"
      ],
      "metadata": {
        "id": "me0zPbGSr1qN"
      },
      "execution_count": 2,
      "outputs": []
    },
    {
      "cell_type": "code",
      "source": [
        "# geodatasets library ထဲက dataset တွေကို သုံးဖို့အတွက်\n",
        "# သူ့ကို pip နဲ့အရင် install တင်ပေးရပါမယ်။\n",
        "# pip install geodatasets"
      ],
      "metadata": {
        "id": "CO6uQgOyt6Xz"
      },
      "execution_count": 3,
      "outputs": []
    },
    {
      "cell_type": "code",
      "source": [
        "# install တင်ပြီးတာနဲ့ import ပြုလုပ်ပေးရပါမယ်။\n",
        "import geodatasets"
      ],
      "metadata": {
        "id": "w7c2Xv1ut996"
      },
      "execution_count": 4,
      "outputs": []
    },
    {
      "cell_type": "code",
      "source": [
        "colombia=gpd.read_file(geodatasets.get_path('geoda.malaria'))\n",
        "colombia.head()"
      ],
      "metadata": {
        "colab": {
          "base_uri": "https://localhost:8080/",
          "height": 602
        },
        "id": "614XgZhUuVZN",
        "outputId": "ee48b648-998e-4c96-d63c-be28c3ecef68"
      },
      "execution_count": 5,
      "outputs": [
        {
          "output_type": "execute_result",
          "data": {
            "text/plain": [
              "   ID      ADM0       ADM1        ADM2 CODDEPT  IDDANE DANECODE  TP1973  \\\n",
              "0   1  COLOMBIA    Guajira      URIBIA      44   44847    44847   57815   \n",
              "1   2  COLOMBIA    Guajira     MANAURE      44   44560    44560    5661   \n",
              "2   3  COLOMBIA    Guajira      MAICAO      44   44430    44430   36771   \n",
              "3   4  COLOMBIA    Guajira    RIOHACHA      44   44001    44001   46024   \n",
              "4   5  COLOMBIA  Magdalena  SITIONUEVO      47   47745    47745   16493   \n",
              "\n",
              "   UP1973  RP1973  ...  TP2003  UP2003  RP2003  TP2004  UP2004  RP2004  \\\n",
              "0    2881   54934  ...   67709    6682   61027   68458    7053   61405   \n",
              "1    4074    1587  ...   42371    8548   33823   44229    9096   35133   \n",
              "2   25161   11610  ...  140121  122435   17686  144277  126249   18028   \n",
              "3   22545   23479  ...   98318   90883    7435   98909   91408    7501   \n",
              "4    6289   10204  ...   21058   11646    9412   21101   11723    9378   \n",
              "\n",
              "   TP2005  UP2005  RP2005                                           geometry  \n",
              "0   69203    7430   61773  POLYGON ((-71.32639 11.84789, -71.33579 11.855...  \n",
              "1   46134    9669   36465  POLYGON ((-72.42191 11.79824, -72.41980 11.795...  \n",
              "2  148517  130149   18368  POLYGON ((-72.18910 11.52420, -72.18330 11.532...  \n",
              "3   99472   91906    7566  POLYGON ((-72.63800 11.36790, -72.62590 11.349...  \n",
              "4   21143   11800    9343  POLYGON ((-74.77489 10.93158, -74.77530 10.933...  \n",
              "\n",
              "[5 rows x 51 columns]"
            ],
            "text/html": [
              "\n",
              "  <div id=\"df-dd5b2da7-d27e-400e-8bcf-3015fd5a0f48\" class=\"colab-df-container\">\n",
              "    <div>\n",
              "<style scoped>\n",
              "    .dataframe tbody tr th:only-of-type {\n",
              "        vertical-align: middle;\n",
              "    }\n",
              "\n",
              "    .dataframe tbody tr th {\n",
              "        vertical-align: top;\n",
              "    }\n",
              "\n",
              "    .dataframe thead th {\n",
              "        text-align: right;\n",
              "    }\n",
              "</style>\n",
              "<table border=\"1\" class=\"dataframe\">\n",
              "  <thead>\n",
              "    <tr style=\"text-align: right;\">\n",
              "      <th></th>\n",
              "      <th>ID</th>\n",
              "      <th>ADM0</th>\n",
              "      <th>ADM1</th>\n",
              "      <th>ADM2</th>\n",
              "      <th>CODDEPT</th>\n",
              "      <th>IDDANE</th>\n",
              "      <th>DANECODE</th>\n",
              "      <th>TP1973</th>\n",
              "      <th>UP1973</th>\n",
              "      <th>RP1973</th>\n",
              "      <th>...</th>\n",
              "      <th>TP2003</th>\n",
              "      <th>UP2003</th>\n",
              "      <th>RP2003</th>\n",
              "      <th>TP2004</th>\n",
              "      <th>UP2004</th>\n",
              "      <th>RP2004</th>\n",
              "      <th>TP2005</th>\n",
              "      <th>UP2005</th>\n",
              "      <th>RP2005</th>\n",
              "      <th>geometry</th>\n",
              "    </tr>\n",
              "  </thead>\n",
              "  <tbody>\n",
              "    <tr>\n",
              "      <th>0</th>\n",
              "      <td>1</td>\n",
              "      <td>COLOMBIA</td>\n",
              "      <td>Guajira</td>\n",
              "      <td>URIBIA</td>\n",
              "      <td>44</td>\n",
              "      <td>44847</td>\n",
              "      <td>44847</td>\n",
              "      <td>57815</td>\n",
              "      <td>2881</td>\n",
              "      <td>54934</td>\n",
              "      <td>...</td>\n",
              "      <td>67709</td>\n",
              "      <td>6682</td>\n",
              "      <td>61027</td>\n",
              "      <td>68458</td>\n",
              "      <td>7053</td>\n",
              "      <td>61405</td>\n",
              "      <td>69203</td>\n",
              "      <td>7430</td>\n",
              "      <td>61773</td>\n",
              "      <td>POLYGON ((-71.32639 11.84789, -71.33579 11.855...</td>\n",
              "    </tr>\n",
              "    <tr>\n",
              "      <th>1</th>\n",
              "      <td>2</td>\n",
              "      <td>COLOMBIA</td>\n",
              "      <td>Guajira</td>\n",
              "      <td>MANAURE</td>\n",
              "      <td>44</td>\n",
              "      <td>44560</td>\n",
              "      <td>44560</td>\n",
              "      <td>5661</td>\n",
              "      <td>4074</td>\n",
              "      <td>1587</td>\n",
              "      <td>...</td>\n",
              "      <td>42371</td>\n",
              "      <td>8548</td>\n",
              "      <td>33823</td>\n",
              "      <td>44229</td>\n",
              "      <td>9096</td>\n",
              "      <td>35133</td>\n",
              "      <td>46134</td>\n",
              "      <td>9669</td>\n",
              "      <td>36465</td>\n",
              "      <td>POLYGON ((-72.42191 11.79824, -72.41980 11.795...</td>\n",
              "    </tr>\n",
              "    <tr>\n",
              "      <th>2</th>\n",
              "      <td>3</td>\n",
              "      <td>COLOMBIA</td>\n",
              "      <td>Guajira</td>\n",
              "      <td>MAICAO</td>\n",
              "      <td>44</td>\n",
              "      <td>44430</td>\n",
              "      <td>44430</td>\n",
              "      <td>36771</td>\n",
              "      <td>25161</td>\n",
              "      <td>11610</td>\n",
              "      <td>...</td>\n",
              "      <td>140121</td>\n",
              "      <td>122435</td>\n",
              "      <td>17686</td>\n",
              "      <td>144277</td>\n",
              "      <td>126249</td>\n",
              "      <td>18028</td>\n",
              "      <td>148517</td>\n",
              "      <td>130149</td>\n",
              "      <td>18368</td>\n",
              "      <td>POLYGON ((-72.18910 11.52420, -72.18330 11.532...</td>\n",
              "    </tr>\n",
              "    <tr>\n",
              "      <th>3</th>\n",
              "      <td>4</td>\n",
              "      <td>COLOMBIA</td>\n",
              "      <td>Guajira</td>\n",
              "      <td>RIOHACHA</td>\n",
              "      <td>44</td>\n",
              "      <td>44001</td>\n",
              "      <td>44001</td>\n",
              "      <td>46024</td>\n",
              "      <td>22545</td>\n",
              "      <td>23479</td>\n",
              "      <td>...</td>\n",
              "      <td>98318</td>\n",
              "      <td>90883</td>\n",
              "      <td>7435</td>\n",
              "      <td>98909</td>\n",
              "      <td>91408</td>\n",
              "      <td>7501</td>\n",
              "      <td>99472</td>\n",
              "      <td>91906</td>\n",
              "      <td>7566</td>\n",
              "      <td>POLYGON ((-72.63800 11.36790, -72.62590 11.349...</td>\n",
              "    </tr>\n",
              "    <tr>\n",
              "      <th>4</th>\n",
              "      <td>5</td>\n",
              "      <td>COLOMBIA</td>\n",
              "      <td>Magdalena</td>\n",
              "      <td>SITIONUEVO</td>\n",
              "      <td>47</td>\n",
              "      <td>47745</td>\n",
              "      <td>47745</td>\n",
              "      <td>16493</td>\n",
              "      <td>6289</td>\n",
              "      <td>10204</td>\n",
              "      <td>...</td>\n",
              "      <td>21058</td>\n",
              "      <td>11646</td>\n",
              "      <td>9412</td>\n",
              "      <td>21101</td>\n",
              "      <td>11723</td>\n",
              "      <td>9378</td>\n",
              "      <td>21143</td>\n",
              "      <td>11800</td>\n",
              "      <td>9343</td>\n",
              "      <td>POLYGON ((-74.77489 10.93158, -74.77530 10.933...</td>\n",
              "    </tr>\n",
              "  </tbody>\n",
              "</table>\n",
              "<p>5 rows × 51 columns</p>\n",
              "</div>\n",
              "    <div class=\"colab-df-buttons\">\n",
              "\n",
              "  <div class=\"colab-df-container\">\n",
              "    <button class=\"colab-df-convert\" onclick=\"convertToInteractive('df-dd5b2da7-d27e-400e-8bcf-3015fd5a0f48')\"\n",
              "            title=\"Convert this dataframe to an interactive table.\"\n",
              "            style=\"display:none;\">\n",
              "\n",
              "  <svg xmlns=\"http://www.w3.org/2000/svg\" height=\"24px\" viewBox=\"0 -960 960 960\">\n",
              "    <path d=\"M120-120v-720h720v720H120Zm60-500h600v-160H180v160Zm220 220h160v-160H400v160Zm0 220h160v-160H400v160ZM180-400h160v-160H180v160Zm440 0h160v-160H620v160ZM180-180h160v-160H180v160Zm440 0h160v-160H620v160Z\"/>\n",
              "  </svg>\n",
              "    </button>\n",
              "\n",
              "  <style>\n",
              "    .colab-df-container {\n",
              "      display:flex;\n",
              "      gap: 12px;\n",
              "    }\n",
              "\n",
              "    .colab-df-convert {\n",
              "      background-color: #E8F0FE;\n",
              "      border: none;\n",
              "      border-radius: 50%;\n",
              "      cursor: pointer;\n",
              "      display: none;\n",
              "      fill: #1967D2;\n",
              "      height: 32px;\n",
              "      padding: 0 0 0 0;\n",
              "      width: 32px;\n",
              "    }\n",
              "\n",
              "    .colab-df-convert:hover {\n",
              "      background-color: #E2EBFA;\n",
              "      box-shadow: 0px 1px 2px rgba(60, 64, 67, 0.3), 0px 1px 3px 1px rgba(60, 64, 67, 0.15);\n",
              "      fill: #174EA6;\n",
              "    }\n",
              "\n",
              "    .colab-df-buttons div {\n",
              "      margin-bottom: 4px;\n",
              "    }\n",
              "\n",
              "    [theme=dark] .colab-df-convert {\n",
              "      background-color: #3B4455;\n",
              "      fill: #D2E3FC;\n",
              "    }\n",
              "\n",
              "    [theme=dark] .colab-df-convert:hover {\n",
              "      background-color: #434B5C;\n",
              "      box-shadow: 0px 1px 3px 1px rgba(0, 0, 0, 0.15);\n",
              "      filter: drop-shadow(0px 1px 2px rgba(0, 0, 0, 0.3));\n",
              "      fill: #FFFFFF;\n",
              "    }\n",
              "  </style>\n",
              "\n",
              "    <script>\n",
              "      const buttonEl =\n",
              "        document.querySelector('#df-dd5b2da7-d27e-400e-8bcf-3015fd5a0f48 button.colab-df-convert');\n",
              "      buttonEl.style.display =\n",
              "        google.colab.kernel.accessAllowed ? 'block' : 'none';\n",
              "\n",
              "      async function convertToInteractive(key) {\n",
              "        const element = document.querySelector('#df-dd5b2da7-d27e-400e-8bcf-3015fd5a0f48');\n",
              "        const dataTable =\n",
              "          await google.colab.kernel.invokeFunction('convertToInteractive',\n",
              "                                                    [key], {});\n",
              "        if (!dataTable) return;\n",
              "\n",
              "        const docLinkHtml = 'Like what you see? Visit the ' +\n",
              "          '<a target=\"_blank\" href=https://colab.research.google.com/notebooks/data_table.ipynb>data table notebook</a>'\n",
              "          + ' to learn more about interactive tables.';\n",
              "        element.innerHTML = '';\n",
              "        dataTable['output_type'] = 'display_data';\n",
              "        await google.colab.output.renderOutput(dataTable, element);\n",
              "        const docLink = document.createElement('div');\n",
              "        docLink.innerHTML = docLinkHtml;\n",
              "        element.appendChild(docLink);\n",
              "      }\n",
              "    </script>\n",
              "  </div>\n",
              "\n",
              "\n",
              "<div id=\"df-77f4900b-6252-48ec-be6f-9d2cbaa2e69e\">\n",
              "  <button class=\"colab-df-quickchart\" onclick=\"quickchart('df-77f4900b-6252-48ec-be6f-9d2cbaa2e69e')\"\n",
              "            title=\"Suggest charts.\"\n",
              "            style=\"display:none;\">\n",
              "\n",
              "<svg xmlns=\"http://www.w3.org/2000/svg\" height=\"24px\"viewBox=\"0 0 24 24\"\n",
              "     width=\"24px\">\n",
              "    <g>\n",
              "        <path d=\"M19 3H5c-1.1 0-2 .9-2 2v14c0 1.1.9 2 2 2h14c1.1 0 2-.9 2-2V5c0-1.1-.9-2-2-2zM9 17H7v-7h2v7zm4 0h-2V7h2v10zm4 0h-2v-4h2v4z\"/>\n",
              "    </g>\n",
              "</svg>\n",
              "  </button>\n",
              "\n",
              "<style>\n",
              "  .colab-df-quickchart {\n",
              "    background-color: #E8F0FE;\n",
              "    border: none;\n",
              "    border-radius: 50%;\n",
              "    cursor: pointer;\n",
              "    display: none;\n",
              "    fill: #1967D2;\n",
              "    height: 32px;\n",
              "    padding: 0 0 0 0;\n",
              "    width: 32px;\n",
              "  }\n",
              "\n",
              "  .colab-df-quickchart:hover {\n",
              "    background-color: #E2EBFA;\n",
              "    box-shadow: 0px 1px 2px rgba(60, 64, 67, 0.3), 0px 1px 3px 1px rgba(60, 64, 67, 0.15);\n",
              "    fill: #174EA6;\n",
              "  }\n",
              "\n",
              "  [theme=dark] .colab-df-quickchart {\n",
              "    background-color: #3B4455;\n",
              "    fill: #D2E3FC;\n",
              "  }\n",
              "\n",
              "  [theme=dark] .colab-df-quickchart:hover {\n",
              "    background-color: #434B5C;\n",
              "    box-shadow: 0px 1px 3px 1px rgba(0, 0, 0, 0.15);\n",
              "    filter: drop-shadow(0px 1px 2px rgba(0, 0, 0, 0.3));\n",
              "    fill: #FFFFFF;\n",
              "  }\n",
              "</style>\n",
              "\n",
              "  <script>\n",
              "    async function quickchart(key) {\n",
              "      const charts = await google.colab.kernel.invokeFunction(\n",
              "          'suggestCharts', [key], {});\n",
              "    }\n",
              "    (() => {\n",
              "      let quickchartButtonEl =\n",
              "        document.querySelector('#df-77f4900b-6252-48ec-be6f-9d2cbaa2e69e button');\n",
              "      quickchartButtonEl.style.display =\n",
              "        google.colab.kernel.accessAllowed ? 'block' : 'none';\n",
              "    })();\n",
              "  </script>\n",
              "</div>\n",
              "    </div>\n",
              "  </div>\n"
            ]
          },
          "metadata": {},
          "execution_count": 5
        }
      ]
    },
    {
      "cell_type": "code",
      "source": [
        "# plot ပြုလုပ်ခြင်ူ\n",
        "colombia.plot(markersize=.5);"
      ],
      "metadata": {
        "colab": {
          "base_uri": "https://localhost:8080/",
          "height": 430
        },
        "id": "5ENRjgpjvHgh",
        "outputId": "caa3df21-aaf1-438a-969f-3df636316260"
      },
      "execution_count": 6,
      "outputs": [
        {
          "output_type": "display_data",
          "data": {
            "text/plain": [
              "<Figure size 640x480 with 1 Axes>"
            ],
            "image/png": "[encoded data removed]"
          },
          "metadata": {}
        }
      ]
    },
    {
      "cell_type": "code",
      "source": [
        "# အပေါ်က ပုံကို ဆွဲဖို့အတွက် geometry ဆိုတဲ့ column က မဖြစ်မနေလိုအပ်ပါတယ်။\n",
        "colombia.geometry.head()"
      ],
      "metadata": {
        "colab": {
          "base_uri": "https://localhost:8080/",
          "height": 0
        },
        "id": "5hsRYwcuvSdJ",
        "outputId": "8c27ae37-7e6e-4b7b-d82f-cbbfeb9d7c57"
      },
      "execution_count": 7,
      "outputs": [
        {
          "output_type": "execute_result",
          "data": {
            "text/plain": [
              "0    POLYGON ((-71.32639 11.84789, -71.33579 11.855...\n",
              "1    POLYGON ((-72.42191 11.79824, -72.41980 11.795...\n",
              "2    POLYGON ((-72.18910 11.52420, -72.18330 11.532...\n",
              "3    POLYGON ((-72.63800 11.36790, -72.62590 11.349...\n",
              "4    POLYGON ((-74.77489 10.93158, -74.77530 10.933...\n",
              "Name: geometry, dtype: geometry"
            ]
          },
          "metadata": {},
          "execution_count": 7
        }
      ]
    },
    {
      "cell_type": "code",
      "source": [
        "# တခါတလေမှာ ကိုယ်က ပုံတပုံပြုလုပ်တဲ့အခါ geometry column ကိုလိုချင်တဲ့အခါ ဒီအတိုင်းရှာလို့ရပါတယ်။\n",
        "colombia.geometry.name"
      ],
      "metadata": {
        "colab": {
          "base_uri": "https://localhost:8080/",
          "height": 35
        },
        "id": "yYDgOwEcvf-x",
        "outputId": "1235e0e3-c004-4b71-8651-da345fb1a146"
      },
      "execution_count": 8,
      "outputs": [
        {
          "output_type": "execute_result",
          "data": {
            "text/plain": [
              "'geometry'"
            ],
            "application/vnd.google.colaboratory.intrinsic+json": {
              "type": "string"
            }
          },
          "metadata": {},
          "execution_count": 8
        }
      ]
    },
    {
      "cell_type": "code",
      "source": [
        "# geometry column ကို နာမည်ပြောင်းလို့လဲရပါတယ်။\n",
        "colombia=colombia.rename_geometry('borders')\n",
        "colombia.geometry.name"
      ],
      "metadata": {
        "colab": {
          "base_uri": "https://localhost:8080/",
          "height": 35
        },
        "id": "PnV3n16Mv_DR",
        "outputId": "fcb4304d-fef8-4e47-90b8-ef3d758dacdc"
      },
      "execution_count": 9,
      "outputs": [
        {
          "output_type": "execute_result",
          "data": {
            "text/plain": [
              "'borders'"
            ],
            "application/vnd.google.colaboratory.intrinsic+json": {
              "type": "string"
            }
          },
          "metadata": {},
          "execution_count": 9
        }
      ]
    },
    {
      "cell_type": "code",
      "source": [
        "# polygon တွေရဲ့ center အားရှာခြင်း\n",
        "colombia['centroid_column']=colombia.centroid\n",
        "colombia=colombia.set_geometry('centroid_column')\n",
        "colombia.plot(markersize=.3);"
      ],
      "metadata": {
        "colab": {
          "base_uri": "https://localhost:8080/",
          "height": 502
        },
        "id": "IJfef85YwVkI",
        "outputId": "acff1405-e329-467e-af46-5a6fe97d2013"
      },
      "execution_count": 10,
      "outputs": [
        {
          "output_type": "stream",
          "name": "stderr",
          "text": [
            "<ipython-input-10-c9004fd6ac4f>:2: UserWarning: Geometry is in a geographic CRS. Results from 'centroid' are likely incorrect. Use 'GeoSeries.to_crs()' to re-project geometries to a projected CRS before this operation.\n",
            "\n",
            "  colombia['centroid_column']=colombia.centroid\n"
          ]
        },
        {
          "output_type": "display_data",
          "data": {
            "text/plain": [
              "<Figure size 640x480 with 1 Axes>"
            ],
            "image/png": "[encoded data removed]"
          },
          "metadata": {}
        }
      ]
    },
    {
      "cell_type": "code",
      "source": [
        "gpd.options"
      ],
      "metadata": {
        "colab": {
          "base_uri": "https://localhost:8080/",
          "height": 0
        },
        "id": "VO_F5UMRxvqw",
        "outputId": "191c6976-0b85-41b9-816c-8349c232602a"
      },
      "execution_count": 11,
      "outputs": [
        {
          "output_type": "execute_result",
          "data": {
            "text/plain": [
              "Options(\n",
              "  display_precision: None [default: None]\n",
              "      The precision (maximum number of decimals) of the coordinates in the\n",
              "      WKT representation in the Series/DataFrame display. By default (None),\n",
              "      it tries to infer and use 3 decimals for projected coordinates and 5\n",
              "      decimals for geographic coordinates.\n",
              "  use_pygeos: False [default: False]\n",
              "      Whether to use PyGEOS to speed up spatial operations. The default is\n",
              "      True if PyGEOS is installed, and follows the USE_PYGEOS environment\n",
              "      variable if set.\n",
              "  )"
            ]
          },
          "metadata": {},
          "execution_count": 11
        }
      ]
    },
    {
      "cell_type": "code",
      "source": [
        "# display_percision နဲ့ ကိုယ်မြင်ချင်တဲ့ ဒဿမတန်ဖိုးတွေကို သတ်မှတ်လို့ရပါတယ်။\n",
        "gpd.options.display_precision = 9\n",
        "colombia.centroid_column.head()"
      ],
      "metadata": {
        "colab": {
          "base_uri": "https://localhost:8080/",
          "height": 0
        },
        "id": "lLt8JT8hyAKf",
        "outputId": "c5b258fb-d781-418c-e64a-bc4f74d820b9"
      },
      "execution_count": 12,
      "outputs": [
        {
          "output_type": "execute_result",
          "data": {
            "text/plain": [
              "0    POINT (-71.745940217 12.008854228)\n",
              "1    POINT (-72.565144214 11.581744777)\n",
              "2    POINT (-72.352030378 11.322036612)\n",
              "3    POINT (-73.141207300 11.152507044)\n",
              "4    POINT (-74.645551117 10.884543716)\n",
              "Name: centroid_column, dtype: geometry"
            ]
          },
          "metadata": {},
          "execution_count": 12
        }
      ]
    }
  ]
}