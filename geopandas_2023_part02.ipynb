{
  "nbformat": 4,
  "nbformat_minor": 0,
  "metadata": {
    "colab": {
      "provenance": [],
      "authorship_tag": "ABX9TyOEAJpXpEn3zPJk/RnF71wp",
      "include_colab_link": true
    },
    "kernelspec": {
      "name": "python3",
      "display_name": "Python 3"
    },
    "language_info": {
      "name": "python"
    }
  },
  "cells": [
    {
      "cell_type": "markdown",
      "metadata": {
        "id": "view-in-github",
        "colab_type": "text"
      },
      "source": [
        "<a href=\"https://colab.research.google.com/github/tomcat472/geopandas_myanmar/blob/main/geopandas_2023_part02.ipynb\" target=\"_parent\"><img src=\"https://colab.research.google.com/assets/colab-badge.svg\" alt=\"Open In Colab\"/></a>"
      ]
    },
    {
      "cell_type": "code",
      "execution_count": null,
      "metadata": {
        "id": "_N739H0eJj0c"
      },
      "outputs": [],
      "source": [
        "import geopandas as gpd"
      ]
    },
    {
      "cell_type": "code",
      "source": [
        "# Geopandas က vector-based spatial data အားလုံးနီးပါးကို ဖတ်နိုင်ပါတယ်။"
      ],
      "metadata": {
        "id": "tWEM0P-vJ320"
      },
      "execution_count": null,
      "outputs": []
    },
    {
      "cell_type": "markdown",
      "source": [
        "# Geopandas Default Datasets များအား ကြည့်ခြင်း"
      ],
      "metadata": {
        "id": "WUDf6c04Mk0k"
      }
    },
    {
      "cell_type": "code",
      "source": [
        "import os\n",
        "os.listdir('/usr/local/lib/python3.10/dist-packages/geopandas/datasets/')\n",
        "# file path ရချင်ရင် gpd.datasets.get_path? ကို run ပြီး help ထဲကနေ copy ယူထည့်ပေးပါ။"
      ],
      "metadata": {
        "colab": {
          "base_uri": "https://localhost:8080/"
        },
        "id": "Dx5dfkH_Lh7-",
        "outputId": "84ae72ce-6e13-413f-b794-0e3923a5ab79"
      },
      "execution_count": null,
      "outputs": [
        {
          "output_type": "execute_result",
          "data": {
            "text/plain": [
              "['nybb_16a.zip',\n",
              " '__init__.py',\n",
              " 'naturalearth_creation.py',\n",
              " 'naturalearth_cities',\n",
              " '__pycache__',\n",
              " 'naturalearth_lowres']"
            ]
          },
          "metadata": {},
          "execution_count": 3
        }
      ]
    },
    {
      "cell_type": "code",
      "source": [
        "os.listdir('/usr/local/lib/python3.10/dist-packages/geopandas/datasets/naturalearth_cities')"
      ],
      "metadata": {
        "colab": {
          "base_uri": "https://localhost:8080/"
        },
        "id": "Or8nfTa1LoXD",
        "outputId": "40e557de-bcef-4112-a07b-26d76d87cacb"
      },
      "execution_count": null,
      "outputs": [
        {
          "output_type": "execute_result",
          "data": {
            "text/plain": [
              "['naturalearth_cities.cpg',\n",
              " 'naturalearth_cities.README.html',\n",
              " 'naturalearth_cities.dbf',\n",
              " 'naturalearth_cities.shp',\n",
              " 'naturalearth_cities.shx',\n",
              " 'naturalearth_cities.prj',\n",
              " 'naturalearth_cities.VERSION.txt']"
            ]
          },
          "metadata": {},
          "execution_count": 4
        }
      ]
    },
    {
      "cell_type": "markdown",
      "source": [
        "# geopandas ၏ default dataset များအားသုံးခြင်း:"
      ],
      "metadata": {
        "id": "Eyat2k56M_ab"
      }
    },
    {
      "cell_type": "code",
      "source": [
        "\n",
        "world=gpd.read_file(gpd.datasets.get_path('naturalearth_lowres'))\n",
        "world.head(3)"
      ],
      "metadata": {
        "colab": {
          "base_uri": "https://localhost:8080/",
          "height": 199
        },
        "id": "g96n1mr4K5-l",
        "outputId": "f13a44c5-e4fc-4f8e-85e7-f349eaf60237"
      },
      "execution_count": null,
      "outputs": [
        {
          "output_type": "stream",
          "name": "stderr",
          "text": [
            "<ipython-input-5-68144759a0a0>:1: FutureWarning: The geopandas.dataset module is deprecated and will be removed in GeoPandas 1.0. You can get the original 'naturalearth_lowres' data from https://www.naturalearthdata.com/downloads/110m-cultural-vectors/.\n",
            "  world=gpd.read_file(gpd.datasets.get_path('naturalearth_lowres'))\n"
          ]
        },
        {
          "output_type": "execute_result",
          "data": {
            "text/plain": [
              "      pop_est continent       name iso_a3  gdp_md_est  \\\n",
              "0    889953.0   Oceania       Fiji    FJI        5496   \n",
              "1  58005463.0    Africa   Tanzania    TZA       63177   \n",
              "2    603253.0    Africa  W. Sahara    ESH         907   \n",
              "\n",
              "                                            geometry  \n",
              "0  MULTIPOLYGON (((180.00000 -16.06713, 180.00000...  \n",
              "1  POLYGON ((33.90371 -0.95000, 34.07262 -1.05982...  \n",
              "2  POLYGON ((-8.66559 27.65643, -8.66512 27.58948...  "
            ],
            "text/html": [
              "\n",
              "  <div id=\"df-5a6fa2b7-601b-4f61-a96c-cb665fbfc781\" class=\"colab-df-container\">\n",
              "    <div>\n",
              "<style scoped>\n",
              "    .dataframe tbody tr th:only-of-type {\n",
              "        vertical-align: middle;\n",
              "    }\n",
              "\n",
              "    .dataframe tbody tr th {\n",
              "        vertical-align: top;\n",
              "    }\n",
              "\n",
              "    .dataframe thead th {\n",
              "        text-align: right;\n",
              "    }\n",
              "</style>\n",
              "<table border=\"1\" class=\"dataframe\">\n",
              "  <thead>\n",
              "    <tr style=\"text-align: right;\">\n",
              "      <th></th>\n",
              "      <th>pop_est</th>\n",
              "      <th>continent</th>\n",
              "      <th>name</th>\n",
              "      <th>iso_a3</th>\n",
              "      <th>gdp_md_est</th>\n",
              "      <th>geometry</th>\n",
              "    </tr>\n",
              "  </thead>\n",
              "  <tbody>\n",
              "    <tr>\n",
              "      <th>0</th>\n",
              "      <td>889953.0</td>\n",
              "      <td>Oceania</td>\n",
              "      <td>Fiji</td>\n",
              "      <td>FJI</td>\n",
              "      <td>5496</td>\n",
              "      <td>MULTIPOLYGON (((180.00000 -16.06713, 180.00000...</td>\n",
              "    </tr>\n",
              "    <tr>\n",
              "      <th>1</th>\n",
              "      <td>58005463.0</td>\n",
              "      <td>Africa</td>\n",
              "      <td>Tanzania</td>\n",
              "      <td>TZA</td>\n",
              "      <td>63177</td>\n",
              "      <td>POLYGON ((33.90371 -0.95000, 34.07262 -1.05982...</td>\n",
              "    </tr>\n",
              "    <tr>\n",
              "      <th>2</th>\n",
              "      <td>603253.0</td>\n",
              "      <td>Africa</td>\n",
              "      <td>W. Sahara</td>\n",
              "      <td>ESH</td>\n",
              "      <td>907</td>\n",
              "      <td>POLYGON ((-8.66559 27.65643, -8.66512 27.58948...</td>\n",
              "    </tr>\n",
              "  </tbody>\n",
              "</table>\n",
              "</div>\n",
              "    <div class=\"colab-df-buttons\">\n",
              "\n",
              "  <div class=\"colab-df-container\">\n",
              "    <button class=\"colab-df-convert\" onclick=\"convertToInteractive('df-5a6fa2b7-601b-4f61-a96c-cb665fbfc781')\"\n",
              "            title=\"Convert this dataframe to an interactive table.\"\n",
              "            style=\"display:none;\">\n",
              "\n",
              "  <svg xmlns=\"http://www.w3.org/2000/svg\" height=\"24px\" viewBox=\"0 -960 960 960\">\n",
              "    <path d=\"M120-120v-720h720v720H120Zm60-500h600v-160H180v160Zm220 220h160v-160H400v160Zm0 220h160v-160H400v160ZM180-400h160v-160H180v160Zm440 0h160v-160H620v160ZM180-180h160v-160H180v160Zm440 0h160v-160H620v160Z\"/>\n",
              "  </svg>\n",
              "    </button>\n",
              "\n",
              "  <style>\n",
              "    .colab-df-container {\n",
              "      display:flex;\n",
              "      gap: 12px;\n",
              "    }\n",
              "\n",
              "    .colab-df-convert {\n",
              "      background-color: #E8F0FE;\n",
              "      border: none;\n",
              "      border-radius: 50%;\n",
              "      cursor: pointer;\n",
              "      display: none;\n",
              "      fill: #1967D2;\n",
              "      height: 32px;\n",
              "      padding: 0 0 0 0;\n",
              "      width: 32px;\n",
              "    }\n",
              "\n",
              "    .colab-df-convert:hover {\n",
              "      background-color: #E2EBFA;\n",
              "      box-shadow: 0px 1px 2px rgba(60, 64, 67, 0.3), 0px 1px 3px 1px rgba(60, 64, 67, 0.15);\n",
              "      fill: #174EA6;\n",
              "    }\n",
              "\n",
              "    .colab-df-buttons div {\n",
              "      margin-bottom: 4px;\n",
              "    }\n",
              "\n",
              "    [theme=dark] .colab-df-convert {\n",
              "      background-color: #3B4455;\n",
              "      fill: #D2E3FC;\n",
              "    }\n",
              "\n",
              "    [theme=dark] .colab-df-convert:hover {\n",
              "      background-color: #434B5C;\n",
              "      box-shadow: 0px 1px 3px 1px rgba(0, 0, 0, 0.15);\n",
              "      filter: drop-shadow(0px 1px 2px rgba(0, 0, 0, 0.3));\n",
              "      fill: #FFFFFF;\n",
              "    }\n",
              "  </style>\n",
              "\n",
              "    <script>\n",
              "      const buttonEl =\n",
              "        document.querySelector('#df-5a6fa2b7-601b-4f61-a96c-cb665fbfc781 button.colab-df-convert');\n",
              "      buttonEl.style.display =\n",
              "        google.colab.kernel.accessAllowed ? 'block' : 'none';\n",
              "\n",
              "      async function convertToInteractive(key) {\n",
              "        const element = document.querySelector('#df-5a6fa2b7-601b-4f61-a96c-cb665fbfc781');\n",
              "        const dataTable =\n",
              "          await google.colab.kernel.invokeFunction('convertToInteractive',\n",
              "                                                    [key], {});\n",
              "        if (!dataTable) return;\n",
              "\n",
              "        const docLinkHtml = 'Like what you see? Visit the ' +\n",
              "          '<a target=\"_blank\" href=https://colab.research.google.com/notebooks/data_table.ipynb>data table notebook</a>'\n",
              "          + ' to learn more about interactive tables.';\n",
              "        element.innerHTML = '';\n",
              "        dataTable['output_type'] = 'display_data';\n",
              "        await google.colab.output.renderOutput(dataTable, element);\n",
              "        const docLink = document.createElement('div');\n",
              "        docLink.innerHTML = docLinkHtml;\n",
              "        element.appendChild(docLink);\n",
              "      }\n",
              "    </script>\n",
              "  </div>\n",
              "\n",
              "\n",
              "<div id=\"df-a70ffda3-57b2-43e3-b29c-160c0a79eca9\">\n",
              "  <button class=\"colab-df-quickchart\" onclick=\"quickchart('df-a70ffda3-57b2-43e3-b29c-160c0a79eca9')\"\n",
              "            title=\"Suggest charts.\"\n",
              "            style=\"display:none;\">\n",
              "\n",
              "<svg xmlns=\"http://www.w3.org/2000/svg\" height=\"24px\"viewBox=\"0 0 24 24\"\n",
              "     width=\"24px\">\n",
              "    <g>\n",
              "        <path d=\"M19 3H5c-1.1 0-2 .9-2 2v14c0 1.1.9 2 2 2h14c1.1 0 2-.9 2-2V5c0-1.1-.9-2-2-2zM9 17H7v-7h2v7zm4 0h-2V7h2v10zm4 0h-2v-4h2v4z\"/>\n",
              "    </g>\n",
              "</svg>\n",
              "  </button>\n",
              "\n",
              "<style>\n",
              "  .colab-df-quickchart {\n",
              "    background-color: #E8F0FE;\n",
              "    border: none;\n",
              "    border-radius: 50%;\n",
              "    cursor: pointer;\n",
              "    display: none;\n",
              "    fill: #1967D2;\n",
              "    height: 32px;\n",
              "    padding: 0 0 0 0;\n",
              "    width: 32px;\n",
              "  }\n",
              "\n",
              "  .colab-df-quickchart:hover {\n",
              "    background-color: #E2EBFA;\n",
              "    box-shadow: 0px 1px 2px rgba(60, 64, 67, 0.3), 0px 1px 3px 1px rgba(60, 64, 67, 0.15);\n",
              "    fill: #174EA6;\n",
              "  }\n",
              "\n",
              "  [theme=dark] .colab-df-quickchart {\n",
              "    background-color: #3B4455;\n",
              "    fill: #D2E3FC;\n",
              "  }\n",
              "\n",
              "  [theme=dark] .colab-df-quickchart:hover {\n",
              "    background-color: #434B5C;\n",
              "    box-shadow: 0px 1px 3px 1px rgba(0, 0, 0, 0.15);\n",
              "    filter: drop-shadow(0px 1px 2px rgba(0, 0, 0, 0.3));\n",
              "    fill: #FFFFFF;\n",
              "  }\n",
              "</style>\n",
              "\n",
              "  <script>\n",
              "    async function quickchart(key) {\n",
              "      const charts = await google.colab.kernel.invokeFunction(\n",
              "          'suggestCharts', [key], {});\n",
              "    }\n",
              "    (() => {\n",
              "      let quickchartButtonEl =\n",
              "        document.querySelector('#df-a70ffda3-57b2-43e3-b29c-160c0a79eca9 button');\n",
              "      quickchartButtonEl.style.display =\n",
              "        google.colab.kernel.accessAllowed ? 'block' : 'none';\n",
              "    })();\n",
              "  </script>\n",
              "</div>\n",
              "    </div>\n",
              "  </div>\n"
            ]
          },
          "metadata": {},
          "execution_count": 5
        }
      ]
    },
    {
      "cell_type": "markdown",
      "source": [
        "# Data Types များ စစ်ခြင်း"
      ],
      "metadata": {
        "id": "-EGoF-DjNPCS"
      }
    },
    {
      "cell_type": "code",
      "source": [
        "print(type(world))\n",
        "print(type(world.continent))"
      ],
      "metadata": {
        "colab": {
          "base_uri": "https://localhost:8080/"
        },
        "id": "6k4DjdXAMaJz",
        "outputId": "1bec9366-d124-4b02-f2c6-080e7620a2b4"
      },
      "execution_count": null,
      "outputs": [
        {
          "output_type": "stream",
          "name": "stdout",
          "text": [
            "<class 'geopandas.geodataframe.GeoDataFrame'>\n",
            "<class 'pandas.core.series.Series'>\n"
          ]
        }
      ]
    },
    {
      "cell_type": "markdown",
      "source": [
        "# CRS Zone များသတ်မှတ်ခြင်း"
      ],
      "metadata": {
        "id": "SqgS9mioNjxC"
      }
    },
    {
      "cell_type": "code",
      "source": [
        "# မြန်မာနိုင်ငံအတွက်ဆိုရင် UTM Zone 46/47N ကိုရွေးပေးရမှာဖြစ်ပါတယ်။ global ကျတော့ epsg 4326 ကိုပဲ အသုံးပြုကြပါတယ်။\n",
        "world.to_crs(epsg=4326)"
      ],
      "metadata": {
        "colab": {
          "base_uri": "https://localhost:8080/",
          "height": 597
        },
        "id": "ekhnAyWINZN0",
        "outputId": "d7a546dd-db7f-4d37-ca8e-3dad4511772a"
      },
      "execution_count": null,
      "outputs": [
        {
          "output_type": "execute_result",
          "data": {
            "text/plain": [
              "         pop_est      continent                      name iso_a3  gdp_md_est  \\\n",
              "0       889953.0        Oceania                      Fiji    FJI        5496   \n",
              "1     58005463.0         Africa                  Tanzania    TZA       63177   \n",
              "2       603253.0         Africa                 W. Sahara    ESH         907   \n",
              "3     37589262.0  North America                    Canada    CAN     1736425   \n",
              "4    328239523.0  North America  United States of America    USA    21433226   \n",
              "..           ...            ...                       ...    ...         ...   \n",
              "172    6944975.0         Europe                    Serbia    SRB       51475   \n",
              "173     622137.0         Europe                Montenegro    MNE        5542   \n",
              "174    1794248.0         Europe                    Kosovo    -99        7926   \n",
              "175    1394973.0  North America       Trinidad and Tobago    TTO       24269   \n",
              "176   11062113.0         Africa                  S. Sudan    SSD       11998   \n",
              "\n",
              "                                              geometry  \n",
              "0    MULTIPOLYGON (((180.00000 -16.06713, 180.00000...  \n",
              "1    POLYGON ((33.90371 -0.95000, 34.07262 -1.05982...  \n",
              "2    POLYGON ((-8.66559 27.65643, -8.66512 27.58948...  \n",
              "3    MULTIPOLYGON (((-122.84000 49.00000, -122.9742...  \n",
              "4    MULTIPOLYGON (((-122.84000 49.00000, -120.0000...  \n",
              "..                                                 ...  \n",
              "172  POLYGON ((18.82982 45.90887, 18.82984 45.90888...  \n",
              "173  POLYGON ((20.07070 42.58863, 19.80161 42.50009...  \n",
              "174  POLYGON ((20.59025 41.85541, 20.52295 42.21787...  \n",
              "175  POLYGON ((-61.68000 10.76000, -61.10500 10.890...  \n",
              "176  POLYGON ((30.83385 3.50917, 29.95350 4.17370, ...  \n",
              "\n",
              "[177 rows x 6 columns]"
            ],
            "text/html": [
              "\n",
              "  <div id=\"df-a5fa9a93-d87b-4591-b0e8-cc6b78d7b701\" class=\"colab-df-container\">\n",
              "    <div>\n",
              "<style scoped>\n",
              "    .dataframe tbody tr th:only-of-type {\n",
              "        vertical-align: middle;\n",
              "    }\n",
              "\n",
              "    .dataframe tbody tr th {\n",
              "        vertical-align: top;\n",
              "    }\n",
              "\n",
              "    .dataframe thead th {\n",
              "        text-align: right;\n",
              "    }\n",
              "</style>\n",
              "<table border=\"1\" class=\"dataframe\">\n",
              "  <thead>\n",
              "    <tr style=\"text-align: right;\">\n",
              "      <th></th>\n",
              "      <th>pop_est</th>\n",
              "      <th>continent</th>\n",
              "      <th>name</th>\n",
              "      <th>iso_a3</th>\n",
              "      <th>gdp_md_est</th>\n",
              "      <th>geometry</th>\n",
              "    </tr>\n",
              "  </thead>\n",
              "  <tbody>\n",
              "    <tr>\n",
              "      <th>0</th>\n",
              "      <td>889953.0</td>\n",
              "      <td>Oceania</td>\n",
              "      <td>Fiji</td>\n",
              "      <td>FJI</td>\n",
              "      <td>5496</td>\n",
              "      <td>MULTIPOLYGON (((180.00000 -16.06713, 180.00000...</td>\n",
              "    </tr>\n",
              "    <tr>\n",
              "      <th>1</th>\n",
              "      <td>58005463.0</td>\n",
              "      <td>Africa</td>\n",
              "      <td>Tanzania</td>\n",
              "      <td>TZA</td>\n",
              "      <td>63177</td>\n",
              "      <td>POLYGON ((33.90371 -0.95000, 34.07262 -1.05982...</td>\n",
              "    </tr>\n",
              "    <tr>\n",
              "      <th>2</th>\n",
              "      <td>603253.0</td>\n",
              "      <td>Africa</td>\n",
              "      <td>W. Sahara</td>\n",
              "      <td>ESH</td>\n",
              "      <td>907</td>\n",
              "      <td>POLYGON ((-8.66559 27.65643, -8.66512 27.58948...</td>\n",
              "    </tr>\n",
              "    <tr>\n",
              "      <th>3</th>\n",
              "      <td>37589262.0</td>\n",
              "      <td>North America</td>\n",
              "      <td>Canada</td>\n",
              "      <td>CAN</td>\n",
              "      <td>1736425</td>\n",
              "      <td>MULTIPOLYGON (((-122.84000 49.00000, -122.9742...</td>\n",
              "    </tr>\n",
              "    <tr>\n",
              "      <th>4</th>\n",
              "      <td>328239523.0</td>\n",
              "      <td>North America</td>\n",
              "      <td>United States of America</td>\n",
              "      <td>USA</td>\n",
              "      <td>21433226</td>\n",
              "      <td>MULTIPOLYGON (((-122.84000 49.00000, -120.0000...</td>\n",
              "    </tr>\n",
              "    <tr>\n",
              "      <th>...</th>\n",
              "      <td>...</td>\n",
              "      <td>...</td>\n",
              "      <td>...</td>\n",
              "      <td>...</td>\n",
              "      <td>...</td>\n",
              "      <td>...</td>\n",
              "    </tr>\n",
              "    <tr>\n",
              "      <th>172</th>\n",
              "      <td>6944975.0</td>\n",
              "      <td>Europe</td>\n",
              "      <td>Serbia</td>\n",
              "      <td>SRB</td>\n",
              "      <td>51475</td>\n",
              "      <td>POLYGON ((18.82982 45.90887, 18.82984 45.90888...</td>\n",
              "    </tr>\n",
              "    <tr>\n",
              "      <th>173</th>\n",
              "      <td>622137.0</td>\n",
              "      <td>Europe</td>\n",
              "      <td>Montenegro</td>\n",
              "      <td>MNE</td>\n",
              "      <td>5542</td>\n",
              "      <td>POLYGON ((20.07070 42.58863, 19.80161 42.50009...</td>\n",
              "    </tr>\n",
              "    <tr>\n",
              "      <th>174</th>\n",
              "      <td>1794248.0</td>\n",
              "      <td>Europe</td>\n",
              "      <td>Kosovo</td>\n",
              "      <td>-99</td>\n",
              "      <td>7926</td>\n",
              "      <td>POLYGON ((20.59025 41.85541, 20.52295 42.21787...</td>\n",
              "    </tr>\n",
              "    <tr>\n",
              "      <th>175</th>\n",
              "      <td>1394973.0</td>\n",
              "      <td>North America</td>\n",
              "      <td>Trinidad and Tobago</td>\n",
              "      <td>TTO</td>\n",
              "      <td>24269</td>\n",
              "      <td>POLYGON ((-61.68000 10.76000, -61.10500 10.890...</td>\n",
              "    </tr>\n",
              "    <tr>\n",
              "      <th>176</th>\n",
              "      <td>11062113.0</td>\n",
              "      <td>Africa</td>\n",
              "      <td>S. Sudan</td>\n",
              "      <td>SSD</td>\n",
              "      <td>11998</td>\n",
              "      <td>POLYGON ((30.83385 3.50917, 29.95350 4.17370, ...</td>\n",
              "    </tr>\n",
              "  </tbody>\n",
              "</table>\n",
              "<p>177 rows × 6 columns</p>\n",
              "</div>\n",
              "    <div class=\"colab-df-buttons\">\n",
              "\n",
              "  <div class=\"colab-df-container\">\n",
              "    <button class=\"colab-df-convert\" onclick=\"convertToInteractive('df-a5fa9a93-d87b-4591-b0e8-cc6b78d7b701')\"\n",
              "            title=\"Convert this dataframe to an interactive table.\"\n",
              "            style=\"display:none;\">\n",
              "\n",
              "  <svg xmlns=\"http://www.w3.org/2000/svg\" height=\"24px\" viewBox=\"0 -960 960 960\">\n",
              "    <path d=\"M120-120v-720h720v720H120Zm60-500h600v-160H180v160Zm220 220h160v-160H400v160Zm0 220h160v-160H400v160ZM180-400h160v-160H180v160Zm440 0h160v-160H620v160ZM180-180h160v-160H180v160Zm440 0h160v-160H620v160Z\"/>\n",
              "  </svg>\n",
              "    </button>\n",
              "\n",
              "  <style>\n",
              "    .colab-df-container {\n",
              "      display:flex;\n",
              "      gap: 12px;\n",
              "    }\n",
              "\n",
              "    .colab-df-convert {\n",
              "      background-color: #E8F0FE;\n",
              "      border: none;\n",
              "      border-radius: 50%;\n",
              "      cursor: pointer;\n",
              "      display: none;\n",
              "      fill: #1967D2;\n",
              "      height: 32px;\n",
              "      padding: 0 0 0 0;\n",
              "      width: 32px;\n",
              "    }\n",
              "\n",
              "    .colab-df-convert:hover {\n",
              "      background-color: #E2EBFA;\n",
              "      box-shadow: 0px 1px 2px rgba(60, 64, 67, 0.3), 0px 1px 3px 1px rgba(60, 64, 67, 0.15);\n",
              "      fill: #174EA6;\n",
              "    }\n",
              "\n",
              "    .colab-df-buttons div {\n",
              "      margin-bottom: 4px;\n",
              "    }\n",
              "\n",
              "    [theme=dark] .colab-df-convert {\n",
              "      background-color: #3B4455;\n",
              "      fill: #D2E3FC;\n",
              "    }\n",
              "\n",
              "    [theme=dark] .colab-df-convert:hover {\n",
              "      background-color: #434B5C;\n",
              "      box-shadow: 0px 1px 3px 1px rgba(0, 0, 0, 0.15);\n",
              "      filter: drop-shadow(0px 1px 2px rgba(0, 0, 0, 0.3));\n",
              "      fill: #FFFFFF;\n",
              "    }\n",
              "  </style>\n",
              "\n",
              "    <script>\n",
              "      const buttonEl =\n",
              "        document.querySelector('#df-a5fa9a93-d87b-4591-b0e8-cc6b78d7b701 button.colab-df-convert');\n",
              "      buttonEl.style.display =\n",
              "        google.colab.kernel.accessAllowed ? 'block' : 'none';\n",
              "\n",
              "      async function convertToInteractive(key) {\n",
              "        const element = document.querySelector('#df-a5fa9a93-d87b-4591-b0e8-cc6b78d7b701');\n",
              "        const dataTable =\n",
              "          await google.colab.kernel.invokeFunction('convertToInteractive',\n",
              "                                                    [key], {});\n",
              "        if (!dataTable) return;\n",
              "\n",
              "        const docLinkHtml = 'Like what you see? Visit the ' +\n",
              "          '<a target=\"_blank\" href=https://colab.research.google.com/notebooks/data_table.ipynb>data table notebook</a>'\n",
              "          + ' to learn more about interactive tables.';\n",
              "        element.innerHTML = '';\n",
              "        dataTable['output_type'] = 'display_data';\n",
              "        await google.colab.output.renderOutput(dataTable, element);\n",
              "        const docLink = document.createElement('div');\n",
              "        docLink.innerHTML = docLinkHtml;\n",
              "        element.appendChild(docLink);\n",
              "      }\n",
              "    </script>\n",
              "  </div>\n",
              "\n",
              "\n",
              "<div id=\"df-7d9a6124-4944-448d-a385-c8de3e3c745f\">\n",
              "  <button class=\"colab-df-quickchart\" onclick=\"quickchart('df-7d9a6124-4944-448d-a385-c8de3e3c745f')\"\n",
              "            title=\"Suggest charts.\"\n",
              "            style=\"display:none;\">\n",
              "\n",
              "<svg xmlns=\"http://www.w3.org/2000/svg\" height=\"24px\"viewBox=\"0 0 24 24\"\n",
              "     width=\"24px\">\n",
              "    <g>\n",
              "        <path d=\"M19 3H5c-1.1 0-2 .9-2 2v14c0 1.1.9 2 2 2h14c1.1 0 2-.9 2-2V5c0-1.1-.9-2-2-2zM9 17H7v-7h2v7zm4 0h-2V7h2v10zm4 0h-2v-4h2v4z\"/>\n",
              "    </g>\n",
              "</svg>\n",
              "  </button>\n",
              "\n",
              "<style>\n",
              "  .colab-df-quickchart {\n",
              "    background-color: #E8F0FE;\n",
              "    border: none;\n",
              "    border-radius: 50%;\n",
              "    cursor: pointer;\n",
              "    display: none;\n",
              "    fill: #1967D2;\n",
              "    height: 32px;\n",
              "    padding: 0 0 0 0;\n",
              "    width: 32px;\n",
              "  }\n",
              "\n",
              "  .colab-df-quickchart:hover {\n",
              "    background-color: #E2EBFA;\n",
              "    box-shadow: 0px 1px 2px rgba(60, 64, 67, 0.3), 0px 1px 3px 1px rgba(60, 64, 67, 0.15);\n",
              "    fill: #174EA6;\n",
              "  }\n",
              "\n",
              "  [theme=dark] .colab-df-quickchart {\n",
              "    background-color: #3B4455;\n",
              "    fill: #D2E3FC;\n",
              "  }\n",
              "\n",
              "  [theme=dark] .colab-df-quickchart:hover {\n",
              "    background-color: #434B5C;\n",
              "    box-shadow: 0px 1px 3px 1px rgba(0, 0, 0, 0.15);\n",
              "    filter: drop-shadow(0px 1px 2px rgba(0, 0, 0, 0.3));\n",
              "    fill: #FFFFFF;\n",
              "  }\n",
              "</style>\n",
              "\n",
              "  <script>\n",
              "    async function quickchart(key) {\n",
              "      const charts = await google.colab.kernel.invokeFunction(\n",
              "          'suggestCharts', [key], {});\n",
              "    }\n",
              "    (() => {\n",
              "      let quickchartButtonEl =\n",
              "        document.querySelector('#df-7d9a6124-4944-448d-a385-c8de3e3c745f button');\n",
              "      quickchartButtonEl.style.display =\n",
              "        google.colab.kernel.accessAllowed ? 'block' : 'none';\n",
              "    })();\n",
              "  </script>\n",
              "</div>\n",
              "    </div>\n",
              "  </div>\n"
            ]
          },
          "metadata": {},
          "execution_count": 7
        }
      ]
    },
    {
      "cell_type": "code",
      "source": [
        "# crs အားစစ်ခြင်း\n",
        "world.crs"
      ],
      "metadata": {
        "colab": {
          "base_uri": "https://localhost:8080/"
        },
        "id": "_WupASlEN3Tz",
        "outputId": "268f2c21-b335-4706-c6dc-f48716856a39"
      },
      "execution_count": null,
      "outputs": [
        {
          "output_type": "execute_result",
          "data": {
            "text/plain": [
              "<Geographic 2D CRS: EPSG:4326>\n",
              "Name: WGS 84\n",
              "Axis Info [ellipsoidal]:\n",
              "- Lat[north]: Geodetic latitude (degree)\n",
              "- Lon[east]: Geodetic longitude (degree)\n",
              "Area of Use:\n",
              "- name: World.\n",
              "- bounds: (-180.0, -90.0, 180.0, 90.0)\n",
              "Datum: World Geodetic System 1984 ensemble\n",
              "- Ellipsoid: WGS 84\n",
              "- Prime Meridian: Greenwich"
            ]
          },
          "metadata": {},
          "execution_count": 8
        }
      ]
    },
    {
      "cell_type": "markdown",
      "source": [
        "# iloc/ loc အားအသုံးပြုခြင်း"
      ],
      "metadata": {
        "id": "N3JwLJqgPAoC"
      }
    },
    {
      "cell_type": "code",
      "source": [
        "# loc/iloc နဲ့ index တစ်ခုချင်းဆီကို filer လုပ်ပါက plot နဲ့ထုတ်ပေးပါတယ်။\n",
        "world.geometry.iloc[93]"
      ],
      "metadata": {
        "colab": {
          "base_uri": "https://localhost:8080/",
          "height": 121
        },
        "id": "FWFpEs6bN8YL",
        "outputId": "c526b86c-7fb1-472b-998f-0d3858bf590a"
      },
      "execution_count": null,
      "outputs": [
        {
          "output_type": "execute_result",
          "data": {
            "text/plain": [
              "<POLYGON ((100.116 20.418, 99.543 20.187, 98.96 19.753, 98.254 19.708, 97.79...>"
            ],
            "image/svg+xml": "<svg xmlns=\"http://www.w3.org/2000/svg\" xmlns:xlink=\"http://www.w3.org/1999/xlink\" width=\"100.0\" height=\"100.0\" viewBox=\"91.56711508175604 9.196840497265914 10.349009651734136 19.875224047931063\" preserveAspectRatio=\"xMinYMin meet\"><g transform=\"matrix(1,0,0,-1,0,38.26890504246289)\"><path fill-rule=\"evenodd\" fill=\"#66cc99\" stroke=\"#555555\" stroke-width=\"0.39750448095862123\" opacity=\"0.6\" d=\"M 100.11598758341785,20.417849636308187 L 99.54330936075931,20.186597601802063 L 98.95967573445488,19.752980658440947 L 98.25372399291561,19.708203029860044 L 97.79778283080441,18.627080389881755 L 97.37589643757354,18.445437730375815 L 97.85912275593486,17.567946071843664 L 98.49376102091135,16.83783559820793 L 98.90334842325676,16.17782420497612 L 98.53737592976572,15.308497422746084 L 98.1920740091914,15.123702500870351 L 98.43081912637987,14.622027696180837 L 99.09775516153876,13.827502549693278 L 99.21201175333609,13.269293728076464 L 99.19635379435167,12.80474843998867 L 99.58728600463972,11.892762762901697 L 99.03812055867398,10.960545762572437 L 98.55355065307305,9.932959906448545 L 98.45717410684873,10.67526601810515 L 98.76454552612078,11.441291612183749 L 98.42833865762985,12.032986761925685 L 98.50957400919268,13.122377631070677 L 98.1036039571077,13.640459703012851 L 97.77773237507517,14.837285874892642 L 97.59707156778276,16.10056793869977 L 97.1645398294998,16.92873444260934 L 96.505768670643,16.42724050543285 L 95.3693522481124,15.7143899601826 L 94.80840457558412,15.80345429123764 L 94.18880415240454,16.037936102762018 L 94.53348595579135,17.277240301985728 L 94.32481652219676,18.2135139022499 L 93.54098839719364,19.366492621330025 L 93.66325483599621,19.726961574781996 L 93.07827762245219,19.855144965081976 L 92.36855350135562,20.670883287025347 L 92.30323449093868,21.47548533780982 L 92.65225711463799,21.324047552978485 L 92.67272098182556,22.041238918541254 L 93.16612755734837,22.278459580977103 L 93.06029422401463,22.70311066333557 L 93.28632693885928,23.043658352139005 L 93.3251876159428,24.078556423432204 L 94.10674197792507,23.85074087167348 L 94.55265791217164,24.675238348890336 L 94.60324913938538,25.162495428970402 L 95.1551534362626,26.001307277932085 L 95.12476769407496,26.5735720891323 L 96.41936567585097,27.264589341739224 L 97.1339990580153,27.083773505149964 L 97.0519885599681,27.69905894623315 L 97.40256147663614,27.882536119085444 L 97.32711388549004,28.26158274994634 L 97.91198774616944,28.335945136014345 L 98.2462309102333,27.74722138112918 L 98.68269005737046,27.50881216075062 L 98.71209394734451,26.743535874940267 L 98.67183800658916,25.918702500913525 L 97.72460900267914,25.083637193293 L 97.60471967976198,23.897404690033042 L 98.66026248575577,24.063286037689966 L 98.89874922078278,23.14272207284253 L 99.5319922220874,22.94903880461258 L 99.24089887898725,22.11831431730458 L 99.98348921102149,21.7429367131364 L 100.41653771362738,21.558839423096614 L 101.15003299357825,21.849984442629022 L 101.18000532430754,21.436572984294028 L 100.32910119018953,20.786121731036232 L 100.11598758341785,20.417849636308187 z\" /></g></svg>"
          },
          "metadata": {},
          "execution_count": 9
        }
      ]
    },
    {
      "cell_type": "code",
      "source": [
        "# index အများအပြားကို စစ်ထုတ်ပါက data တွေကိုသာ output ထုတ်ပေးပြီး plot ပြန်လုပ်ပါက ပုံကိုထုတ်ပေးပါတယ်။\n",
        "world.geometry.iloc[93:100]"
      ],
      "metadata": {
        "colab": {
          "base_uri": "https://localhost:8080/"
        },
        "id": "7fpLivQeOpOz",
        "outputId": "3e6985e1-03f2-4eed-c0d4-a85c6eeccac5"
      },
      "execution_count": null,
      "outputs": [
        {
          "output_type": "execute_result",
          "data": {
            "text/plain": [
              "93    POLYGON ((100.11599 20.41785, 99.54331 20.1866...\n",
              "94    POLYGON ((104.33433 10.48654, 105.19991 10.889...\n",
              "95    MULTIPOLYGON (((130.78000 42.22001, 130.78000 ...\n",
              "96    POLYGON ((126.17476 37.74969, 126.23734 37.840...\n",
              "97    POLYGON ((87.75126 49.29720, 88.80557 49.47052...\n",
              "98    POLYGON ((97.32711 28.26158, 97.40256 27.88254...\n",
              "99    POLYGON ((92.67272 22.04124, 92.65226 21.32405...\n",
              "Name: geometry, dtype: geometry"
            ]
          },
          "metadata": {},
          "execution_count": 10
        }
      ]
    },
    {
      "cell_type": "code",
      "source": [
        "world.geometry.loc[93:100].plot()"
      ],
      "metadata": {
        "colab": {
          "base_uri": "https://localhost:8080/",
          "height": 448
        },
        "id": "CJ1EyDnpOSLb",
        "outputId": "8ad37425-6e2a-4f9c-a5e8-0447970154be"
      },
      "execution_count": null,
      "outputs": [
        {
          "output_type": "execute_result",
          "data": {
            "text/plain": [
              "<Axes: >"
            ]
          },
          "metadata": {},
          "execution_count": 11
        },
        {
          "output_type": "display_data",
          "data": {
            "text/plain": [
              "<Figure size 640x480 with 1 Axes>"
            ],
            "image/png": "[encoded data removed]"
          },
          "metadata": {}
        }
      ]
    },
    {
      "cell_type": "code",
      "source": [
        "# loc နဲ့ iloc ဟာ pandas ကအတိုင်းဖြစ်ပါတယ်။ အဲ့တာမို့အကျယ်မရှင်းပြတော့ပါဘူး။"
      ],
      "metadata": {
        "id": "TCDKv8F4O8bq"
      },
      "execution_count": null,
      "outputs": []
    },
    {
      "cell_type": "markdown",
      "source": [
        "# Google Drive ထဲက vector-based spatial data file များအား အသုံးပြုခြင်း"
      ],
      "metadata": {
        "id": "pfwS_hbwP2yR"
      }
    },
    {
      "cell_type": "code",
      "source": [
        "# ပထမဆုံးအနေနဲ့ ကိုယ့် colab အကောင့်နဲ့ link ချိတ်ပေးရပါမယ်။\n",
        "from google.colab import drive\n",
        "drive.mount('/content/drive')"
      ],
      "metadata": {
        "colab": {
          "base_uri": "https://localhost:8080/"
        },
        "id": "8nvGwhp_Pipi",
        "outputId": "b3b0fc2a-4af5-41eb-86a6-a17e389c083c"
      },
      "execution_count": null,
      "outputs": [
        {
          "output_type": "stream",
          "name": "stdout",
          "text": [
            "Drive already mounted at /content/drive; to attempt to forcibly remount, call drive.mount(\"/content/drive\", force_remount=True).\n"
          ]
        }
      ]
    },
    {
      "cell_type": "code",
      "source": [
        "# google drive ထဲရှိ shp အား ဖတ်ခြင်း\n",
        "myanmar=gpd.read_file('/content/drive/MyDrive/Shape File/Myanmar Township Boundaries/mmr_polbnda_250k_adm3_mimu.shp')\n",
        "myanmar.head()"
      ],
      "metadata": {
        "colab": {
          "base_uri": "https://localhost:8080/",
          "height": 486
        },
        "id": "kZqj7Z7aS-JR",
        "outputId": "03eb2070-2a03-4198-8488-c280fe5396cf"
      },
      "execution_count": null,
      "outputs": [
        {
          "output_type": "execute_result",
          "data": {
            "text/plain": [
              "   OBJECTID          ST ST_PCODE        DT    DT_PCODE        TS   TS_PCODE  \\\n",
              "0     313.0     Rakhine   MMR012  Kyaukpyu  MMR012D003    Ramree  MMR012013   \n",
              "1     292.0     Rakhine   MMR012   Thandwe  MMR012D004   Toungup  MMR012016   \n",
              "2     314.0     Rakhine   MMR012  Kyaukpyu  MMR012D003  Kyaukpyu  MMR012011   \n",
              "3     324.0  Ayeyarwady   MMR017   Labutta  MMR017D004   Labutta  MMR017016   \n",
              "4     280.0  Ayeyarwady   MMR017   Pathein  MMR017D001  Ngapudaw  MMR017004   \n",
              "\n",
              "  SELF_ADMIN   ST_RG                      TS_MMR4  \\\n",
              "0        NaN   State        áááºá¸áá¼á²   \n",
              "1        NaN   State  áá±á¬ááºáá¯ááº   \n",
              "2        NaN   State  áá»á±á¬ááºáá¼á°   \n",
              "3        NaN  Region        ááá½áá¹áá¬   \n",
              "4        NaN  Region           ááá¯áá±á¬   \n",
              "\n",
              "                                            geometry  \n",
              "0  MULTIPOLYGON (((93.99586 18.74753, 93.99853 18...  \n",
              "1  MULTIPOLYGON (((94.04611 19.02329, 94.04125 19...  \n",
              "2  MULTIPOLYGON (((93.83290 19.25509, 93.82447 19...  \n",
              "3  MULTIPOLYGON (((95.06350 15.81486, 95.05964 15...  \n",
              "4  MULTIPOLYGON (((94.27572 15.85924, 94.27520 15...  "
            ],
            "text/html": [
              "\n",
              "  <div id=\"df-20ee0eb4-e903-4cc6-8454-7d35357bfc74\" class=\"colab-df-container\">\n",
              "    <div>\n",
              "<style scoped>\n",
              "    .dataframe tbody tr th:only-of-type {\n",
              "        vertical-align: middle;\n",
              "    }\n",
              "\n",
              "    .dataframe tbody tr th {\n",
              "        vertical-align: top;\n",
              "    }\n",
              "\n",
              "    .dataframe thead th {\n",
              "        text-align: right;\n",
              "    }\n",
              "</style>\n",
              "<table border=\"1\" class=\"dataframe\">\n",
              "  <thead>\n",
              "    <tr style=\"text-align: right;\">\n",
              "      <th></th>\n",
              "      <th>OBJECTID</th>\n",
              "      <th>ST</th>\n",
              "      <th>ST_PCODE</th>\n",
              "      <th>DT</th>\n",
              "      <th>DT_PCODE</th>\n",
              "      <th>TS</th>\n",
              "      <th>TS_PCODE</th>\n",
              "      <th>SELF_ADMIN</th>\n",
              "      <th>ST_RG</th>\n",
              "      <th>TS_MMR4</th>\n",
              "      <th>geometry</th>\n",
              "    </tr>\n",
              "  </thead>\n",
              "  <tbody>\n",
              "    <tr>\n",
              "      <th>0</th>\n",
              "      <td>313.0</td>\n",
              "      <td>Rakhine</td>\n",
              "      <td>MMR012</td>\n",
              "      <td>Kyaukpyu</td>\n",
              "      <td>MMR012D003</td>\n",
              "      <td>Ramree</td>\n",
              "      <td>MMR012013</td>\n",
              "      <td>NaN</td>\n",
              "      <td>State</td>\n",
              "      <td>áááºá¸áá¼á²</td>\n",
              "      <td>MULTIPOLYGON (((93.99586 18.74753, 93.99853 18...</td>\n",
              "    </tr>\n",
              "    <tr>\n",
              "      <th>1</th>\n",
              "      <td>292.0</td>\n",
              "      <td>Rakhine</td>\n",
              "      <td>MMR012</td>\n",
              "      <td>Thandwe</td>\n",
              "      <td>MMR012D004</td>\n",
              "      <td>Toungup</td>\n",
              "      <td>MMR012016</td>\n",
              "      <td>NaN</td>\n",
              "      <td>State</td>\n",
              "      <td>áá±á¬ááºáá¯ááº</td>\n",
              "      <td>MULTIPOLYGON (((94.04611 19.02329, 94.04125 19...</td>\n",
              "    </tr>\n",
              "    <tr>\n",
              "      <th>2</th>\n",
              "      <td>314.0</td>\n",
              "      <td>Rakhine</td>\n",
              "      <td>MMR012</td>\n",
              "      <td>Kyaukpyu</td>\n",
              "      <td>MMR012D003</td>\n",
              "      <td>Kyaukpyu</td>\n",
              "      <td>MMR012011</td>\n",
              "      <td>NaN</td>\n",
              "      <td>State</td>\n",
              "      <td>áá»á±á¬ááºáá¼á°</td>\n",
              "      <td>MULTIPOLYGON (((93.83290 19.25509, 93.82447 19...</td>\n",
              "    </tr>\n",
              "    <tr>\n",
              "      <th>3</th>\n",
              "      <td>324.0</td>\n",
              "      <td>Ayeyarwady</td>\n",
              "      <td>MMR017</td>\n",
              "      <td>Labutta</td>\n",
              "      <td>MMR017D004</td>\n",
              "      <td>Labutta</td>\n",
              "      <td>MMR017016</td>\n",
              "      <td>NaN</td>\n",
              "      <td>Region</td>\n",
              "      <td>ááá½áá¹áá¬</td>\n",
              "      <td>MULTIPOLYGON (((95.06350 15.81486, 95.05964 15...</td>\n",
              "    </tr>\n",
              "    <tr>\n",
              "      <th>4</th>\n",
              "      <td>280.0</td>\n",
              "      <td>Ayeyarwady</td>\n",
              "      <td>MMR017</td>\n",
              "      <td>Pathein</td>\n",
              "      <td>MMR017D001</td>\n",
              "      <td>Ngapudaw</td>\n",
              "      <td>MMR017004</td>\n",
              "      <td>NaN</td>\n",
              "      <td>Region</td>\n",
              "      <td>ááá¯áá±á¬</td>\n",
              "      <td>MULTIPOLYGON (((94.27572 15.85924, 94.27520 15...</td>\n",
              "    </tr>\n",
              "  </tbody>\n",
              "</table>\n",
              "</div>\n",
              "    <div class=\"colab-df-buttons\">\n",
              "\n",
              "  <div class=\"colab-df-container\">\n",
              "    <button class=\"colab-df-convert\" onclick=\"convertToInteractive('df-20ee0eb4-e903-4cc6-8454-7d35357bfc74')\"\n",
              "            title=\"Convert this dataframe to an interactive table.\"\n",
              "            style=\"display:none;\">\n",
              "\n",
              "  <svg xmlns=\"http://www.w3.org/2000/svg\" height=\"24px\" viewBox=\"0 -960 960 960\">\n",
              "    <path d=\"M120-120v-720h720v720H120Zm60-500h600v-160H180v160Zm220 220h160v-160H400v160Zm0 220h160v-160H400v160ZM180-400h160v-160H180v160Zm440 0h160v-160H620v160ZM180-180h160v-160H180v160Zm440 0h160v-160H620v160Z\"/>\n",
              "  </svg>\n",
              "    </button>\n",
              "\n",
              "  <style>\n",
              "    .colab-df-container {\n",
              "      display:flex;\n",
              "      gap: 12px;\n",
              "    }\n",
              "\n",
              "    .colab-df-convert {\n",
              "      background-color: #E8F0FE;\n",
              "      border: none;\n",
              "      border-radius: 50%;\n",
              "      cursor: pointer;\n",
              "      display: none;\n",
              "      fill: #1967D2;\n",
              "      height: 32px;\n",
              "      padding: 0 0 0 0;\n",
              "      width: 32px;\n",
              "    }\n",
              "\n",
              "    .colab-df-convert:hover {\n",
              "      background-color: #E2EBFA;\n",
              "      box-shadow: 0px 1px 2px rgba(60, 64, 67, 0.3), 0px 1px 3px 1px rgba(60, 64, 67, 0.15);\n",
              "      fill: #174EA6;\n",
              "    }\n",
              "\n",
              "    .colab-df-buttons div {\n",
              "      margin-bottom: 4px;\n",
              "    }\n",
              "\n",
              "    [theme=dark] .colab-df-convert {\n",
              "      background-color: #3B4455;\n",
              "      fill: #D2E3FC;\n",
              "    }\n",
              "\n",
              "    [theme=dark] .colab-df-convert:hover {\n",
              "      background-color: #434B5C;\n",
              "      box-shadow: 0px 1px 3px 1px rgba(0, 0, 0, 0.15);\n",
              "      filter: drop-shadow(0px 1px 2px rgba(0, 0, 0, 0.3));\n",
              "      fill: #FFFFFF;\n",
              "    }\n",
              "  </style>\n",
              "\n",
              "    <script>\n",
              "      const buttonEl =\n",
              "        document.querySelector('#df-20ee0eb4-e903-4cc6-8454-7d35357bfc74 button.colab-df-convert');\n",
              "      buttonEl.style.display =\n",
              "        google.colab.kernel.accessAllowed ? 'block' : 'none';\n",
              "\n",
              "      async function convertToInteractive(key) {\n",
              "        const element = document.querySelector('#df-20ee0eb4-e903-4cc6-8454-7d35357bfc74');\n",
              "        const dataTable =\n",
              "          await google.colab.kernel.invokeFunction('convertToInteractive',\n",
              "                                                    [key], {});\n",
              "        if (!dataTable) return;\n",
              "\n",
              "        const docLinkHtml = 'Like what you see? Visit the ' +\n",
              "          '<a target=\"_blank\" href=https://colab.research.google.com/notebooks/data_table.ipynb>data table notebook</a>'\n",
              "          + ' to learn more about interactive tables.';\n",
              "        element.innerHTML = '';\n",
              "        dataTable['output_type'] = 'display_data';\n",
              "        await google.colab.output.renderOutput(dataTable, element);\n",
              "        const docLink = document.createElement('div');\n",
              "        docLink.innerHTML = docLinkHtml;\n",
              "        element.appendChild(docLink);\n",
              "      }\n",
              "    </script>\n",
              "  </div>\n",
              "\n",
              "\n",
              "<div id=\"df-6bea0030-b850-48f2-a889-73f72504a9d0\">\n",
              "  <button class=\"colab-df-quickchart\" onclick=\"quickchart('df-6bea0030-b850-48f2-a889-73f72504a9d0')\"\n",
              "            title=\"Suggest charts.\"\n",
              "            style=\"display:none;\">\n",
              "\n",
              "<svg xmlns=\"http://www.w3.org/2000/svg\" height=\"24px\"viewBox=\"0 0 24 24\"\n",
              "     width=\"24px\">\n",
              "    <g>\n",
              "        <path d=\"M19 3H5c-1.1 0-2 .9-2 2v14c0 1.1.9 2 2 2h14c1.1 0 2-.9 2-2V5c0-1.1-.9-2-2-2zM9 17H7v-7h2v7zm4 0h-2V7h2v10zm4 0h-2v-4h2v4z\"/>\n",
              "    </g>\n",
              "</svg>\n",
              "  </button>\n",
              "\n",
              "<style>\n",
              "  .colab-df-quickchart {\n",
              "    background-color: #E8F0FE;\n",
              "    border: none;\n",
              "    border-radius: 50%;\n",
              "    cursor: pointer;\n",
              "    display: none;\n",
              "    fill: #1967D2;\n",
              "    height: 32px;\n",
              "    padding: 0 0 0 0;\n",
              "    width: 32px;\n",
              "  }\n",
              "\n",
              "  .colab-df-quickchart:hover {\n",
              "    background-color: #E2EBFA;\n",
              "    box-shadow: 0px 1px 2px rgba(60, 64, 67, 0.3), 0px 1px 3px 1px rgba(60, 64, 67, 0.15);\n",
              "    fill: #174EA6;\n",
              "  }\n",
              "\n",
              "  [theme=dark] .colab-df-quickchart {\n",
              "    background-color: #3B4455;\n",
              "    fill: #D2E3FC;\n",
              "  }\n",
              "\n",
              "  [theme=dark] .colab-df-quickchart:hover {\n",
              "    background-color: #434B5C;\n",
              "    box-shadow: 0px 1px 3px 1px rgba(0, 0, 0, 0.15);\n",
              "    filter: drop-shadow(0px 1px 2px rgba(0, 0, 0, 0.3));\n",
              "    fill: #FFFFFF;\n",
              "  }\n",
              "</style>\n",
              "\n",
              "  <script>\n",
              "    async function quickchart(key) {\n",
              "      const charts = await google.colab.kernel.invokeFunction(\n",
              "          'suggestCharts', [key], {});\n",
              "    }\n",
              "    (() => {\n",
              "      let quickchartButtonEl =\n",
              "        document.querySelector('#df-6bea0030-b850-48f2-a889-73f72504a9d0 button');\n",
              "      quickchartButtonEl.style.display =\n",
              "        google.colab.kernel.accessAllowed ? 'block' : 'none';\n",
              "    })();\n",
              "  </script>\n",
              "</div>\n",
              "    </div>\n",
              "  </div>\n"
            ]
          },
          "metadata": {},
          "execution_count": 14
        }
      ]
    },
    {
      "cell_type": "code",
      "source": [
        "myanmar.plot()"
      ],
      "metadata": {
        "colab": {
          "base_uri": "https://localhost:8080/",
          "height": 448
        },
        "id": "krqK-9tGWC73",
        "outputId": "074f54af-0251-4ff5-f814-5d47156bf70f"
      },
      "execution_count": null,
      "outputs": [
        {
          "output_type": "execute_result",
          "data": {
            "text/plain": [
              "<Axes: >"
            ]
          },
          "metadata": {},
          "execution_count": 15
        },
        {
          "output_type": "display_data",
          "data": {
            "text/plain": [
              "<Figure size 640x480 with 1 Axes>"
            ],
            "image/png": "[encoded data removed]"
          },
          "metadata": {}
        }
      ]
    },
    {
      "cell_type": "markdown",
      "source": [
        "# file များအား export ထုတ်ခြင်း"
      ],
      "metadata": {
        "id": "h0Nv61K0Wrtu"
      }
    },
    {
      "cell_type": "code",
      "source": [
        "myanmar.columns"
      ],
      "metadata": {
        "colab": {
          "base_uri": "https://localhost:8080/"
        },
        "id": "pc0Yms0dWHwP",
        "outputId": "9b71b113-0842-4e14-bf14-d41ffd324099"
      },
      "execution_count": null,
      "outputs": [
        {
          "output_type": "execute_result",
          "data": {
            "text/plain": [
              "Index(['OBJECTID', 'ST', 'ST_PCODE', 'DT', 'DT_PCODE', 'TS', 'TS_PCODE',\n",
              "       'SELF_ADMIN', 'ST_RG', 'TS_MMR4', 'geometry'],\n",
              "      dtype='object')"
            ]
          },
          "metadata": {},
          "execution_count": 16
        }
      ]
    },
    {
      "cell_type": "code",
      "source": [
        "myanmar[myanmar.ST=='Sagaing'].head(2)"
      ],
      "metadata": {
        "colab": {
          "base_uri": "https://localhost:8080/",
          "height": 270
        },
        "id": "pk518Pr6XBYX",
        "outputId": "c18313e7-9c21-478b-8f86-621ab4a47aa6"
      },
      "execution_count": null,
      "outputs": [
        {
          "output_type": "execute_result",
          "data": {
            "text/plain": [
              "    OBJECTID       ST ST_PCODE      DT    DT_PCODE        TS   TS_PCODE  \\\n",
              "82     227.0  Sagaing   MMR005   Katha  MMR005D004  Tigyaing  MMR005022   \n",
              "83     122.0  Sagaing   MMR005  Monywa  MMR005D003   Budalin  MMR005013   \n",
              "\n",
              "   SELF_ADMIN   ST_RG                         TS_MMR4  \\\n",
              "82        NaN  Region  áá®á¸áá»á­á¯ááºá·   \n",
              "83        NaN  Region              áá¯ááááº   \n",
              "\n",
              "                                             geometry  \n",
              "82  POLYGON ((95.99785 23.90592, 95.99715 23.90714...  \n",
              "83  POLYGON ((95.04920 22.24393, 95.04425 22.25014...  "
            ],
            "text/html": [
              "\n",
              "  <div id=\"df-03a83148-b69f-47e4-990e-ee7dfb951b5b\" class=\"colab-df-container\">\n",
              "    <div>\n",
              "<style scoped>\n",
              "    .dataframe tbody tr th:only-of-type {\n",
              "        vertical-align: middle;\n",
              "    }\n",
              "\n",
              "    .dataframe tbody tr th {\n",
              "        vertical-align: top;\n",
              "    }\n",
              "\n",
              "    .dataframe thead th {\n",
              "        text-align: right;\n",
              "    }\n",
              "</style>\n",
              "<table border=\"1\" class=\"dataframe\">\n",
              "  <thead>\n",
              "    <tr style=\"text-align: right;\">\n",
              "      <th></th>\n",
              "      <th>OBJECTID</th>\n",
              "      <th>ST</th>\n",
              "      <th>ST_PCODE</th>\n",
              "      <th>DT</th>\n",
              "      <th>DT_PCODE</th>\n",
              "      <th>TS</th>\n",
              "      <th>TS_PCODE</th>\n",
              "      <th>SELF_ADMIN</th>\n",
              "      <th>ST_RG</th>\n",
              "      <th>TS_MMR4</th>\n",
              "      <th>geometry</th>\n",
              "    </tr>\n",
              "  </thead>\n",
              "  <tbody>\n",
              "    <tr>\n",
              "      <th>82</th>\n",
              "      <td>227.0</td>\n",
              "      <td>Sagaing</td>\n",
              "      <td>MMR005</td>\n",
              "      <td>Katha</td>\n",
              "      <td>MMR005D004</td>\n",
              "      <td>Tigyaing</td>\n",
              "      <td>MMR005022</td>\n",
              "      <td>NaN</td>\n",
              "      <td>Region</td>\n",
              "      <td>áá®á¸áá»á­á¯ááºá·</td>\n",
              "      <td>POLYGON ((95.99785 23.90592, 95.99715 23.90714...</td>\n",
              "    </tr>\n",
              "    <tr>\n",
              "      <th>83</th>\n",
              "      <td>122.0</td>\n",
              "      <td>Sagaing</td>\n",
              "      <td>MMR005</td>\n",
              "      <td>Monywa</td>\n",
              "      <td>MMR005D003</td>\n",
              "      <td>Budalin</td>\n",
              "      <td>MMR005013</td>\n",
              "      <td>NaN</td>\n",
              "      <td>Region</td>\n",
              "      <td>áá¯ááááº</td>\n",
              "      <td>POLYGON ((95.04920 22.24393, 95.04425 22.25014...</td>\n",
              "    </tr>\n",
              "  </tbody>\n",
              "</table>\n",
              "</div>\n",
              "    <div class=\"colab-df-buttons\">\n",
              "\n",
              "  <div class=\"colab-df-container\">\n",
              "    <button class=\"colab-df-convert\" onclick=\"convertToInteractive('df-03a83148-b69f-47e4-990e-ee7dfb951b5b')\"\n",
              "            title=\"Convert this dataframe to an interactive table.\"\n",
              "            style=\"display:none;\">\n",
              "\n",
              "  <svg xmlns=\"http://www.w3.org/2000/svg\" height=\"24px\" viewBox=\"0 -960 960 960\">\n",
              "    <path d=\"M120-120v-720h720v720H120Zm60-500h600v-160H180v160Zm220 220h160v-160H400v160Zm0 220h160v-160H400v160ZM180-400h160v-160H180v160Zm440 0h160v-160H620v160ZM180-180h160v-160H180v160Zm440 0h160v-160H620v160Z\"/>\n",
              "  </svg>\n",
              "    </button>\n",
              "\n",
              "  <style>\n",
              "    .colab-df-container {\n",
              "      display:flex;\n",
              "      gap: 12px;\n",
              "    }\n",
              "\n",
              "    .colab-df-convert {\n",
              "      background-color: #E8F0FE;\n",
              "      border: none;\n",
              "      border-radius: 50%;\n",
              "      cursor: pointer;\n",
              "      display: none;\n",
              "      fill: #1967D2;\n",
              "      height: 32px;\n",
              "      padding: 0 0 0 0;\n",
              "      width: 32px;\n",
              "    }\n",
              "\n",
              "    .colab-df-convert:hover {\n",
              "      background-color: #E2EBFA;\n",
              "      box-shadow: 0px 1px 2px rgba(60, 64, 67, 0.3), 0px 1px 3px 1px rgba(60, 64, 67, 0.15);\n",
              "      fill: #174EA6;\n",
              "    }\n",
              "\n",
              "    .colab-df-buttons div {\n",
              "      margin-bottom: 4px;\n",
              "    }\n",
              "\n",
              "    [theme=dark] .colab-df-convert {\n",
              "      background-color: #3B4455;\n",
              "      fill: #D2E3FC;\n",
              "    }\n",
              "\n",
              "    [theme=dark] .colab-df-convert:hover {\n",
              "      background-color: #434B5C;\n",
              "      box-shadow: 0px 1px 3px 1px rgba(0, 0, 0, 0.15);\n",
              "      filter: drop-shadow(0px 1px 2px rgba(0, 0, 0, 0.3));\n",
              "      fill: #FFFFFF;\n",
              "    }\n",
              "  </style>\n",
              "\n",
              "    <script>\n",
              "      const buttonEl =\n",
              "        document.querySelector('#df-03a83148-b69f-47e4-990e-ee7dfb951b5b button.colab-df-convert');\n",
              "      buttonEl.style.display =\n",
              "        google.colab.kernel.accessAllowed ? 'block' : 'none';\n",
              "\n",
              "      async function convertToInteractive(key) {\n",
              "        const element = document.querySelector('#df-03a83148-b69f-47e4-990e-ee7dfb951b5b');\n",
              "        const dataTable =\n",
              "          await google.colab.kernel.invokeFunction('convertToInteractive',\n",
              "                                                    [key], {});\n",
              "        if (!dataTable) return;\n",
              "\n",
              "        const docLinkHtml = 'Like what you see? Visit the ' +\n",
              "          '<a target=\"_blank\" href=https://colab.research.google.com/notebooks/data_table.ipynb>data table notebook</a>'\n",
              "          + ' to learn more about interactive tables.';\n",
              "        element.innerHTML = '';\n",
              "        dataTable['output_type'] = 'display_data';\n",
              "        await google.colab.output.renderOutput(dataTable, element);\n",
              "        const docLink = document.createElement('div');\n",
              "        docLink.innerHTML = docLinkHtml;\n",
              "        element.appendChild(docLink);\n",
              "      }\n",
              "    </script>\n",
              "  </div>\n",
              "\n",
              "\n",
              "<div id=\"df-e0038282-d469-41d7-85e8-04ccd08d9362\">\n",
              "  <button class=\"colab-df-quickchart\" onclick=\"quickchart('df-e0038282-d469-41d7-85e8-04ccd08d9362')\"\n",
              "            title=\"Suggest charts.\"\n",
              "            style=\"display:none;\">\n",
              "\n",
              "<svg xmlns=\"http://www.w3.org/2000/svg\" height=\"24px\"viewBox=\"0 0 24 24\"\n",
              "     width=\"24px\">\n",
              "    <g>\n",
              "        <path d=\"M19 3H5c-1.1 0-2 .9-2 2v14c0 1.1.9 2 2 2h14c1.1 0 2-.9 2-2V5c0-1.1-.9-2-2-2zM9 17H7v-7h2v7zm4 0h-2V7h2v10zm4 0h-2v-4h2v4z\"/>\n",
              "    </g>\n",
              "</svg>\n",
              "  </button>\n",
              "\n",
              "<style>\n",
              "  .colab-df-quickchart {\n",
              "    background-color: #E8F0FE;\n",
              "    border: none;\n",
              "    border-radius: 50%;\n",
              "    cursor: pointer;\n",
              "    display: none;\n",
              "    fill: #1967D2;\n",
              "    height: 32px;\n",
              "    padding: 0 0 0 0;\n",
              "    width: 32px;\n",
              "  }\n",
              "\n",
              "  .colab-df-quickchart:hover {\n",
              "    background-color: #E2EBFA;\n",
              "    box-shadow: 0px 1px 2px rgba(60, 64, 67, 0.3), 0px 1px 3px 1px rgba(60, 64, 67, 0.15);\n",
              "    fill: #174EA6;\n",
              "  }\n",
              "\n",
              "  [theme=dark] .colab-df-quickchart {\n",
              "    background-color: #3B4455;\n",
              "    fill: #D2E3FC;\n",
              "  }\n",
              "\n",
              "  [theme=dark] .colab-df-quickchart:hover {\n",
              "    background-color: #434B5C;\n",
              "    box-shadow: 0px 1px 3px 1px rgba(0, 0, 0, 0.15);\n",
              "    filter: drop-shadow(0px 1px 2px rgba(0, 0, 0, 0.3));\n",
              "    fill: #FFFFFF;\n",
              "  }\n",
              "</style>\n",
              "\n",
              "  <script>\n",
              "    async function quickchart(key) {\n",
              "      const charts = await google.colab.kernel.invokeFunction(\n",
              "          'suggestCharts', [key], {});\n",
              "    }\n",
              "    (() => {\n",
              "      let quickchartButtonEl =\n",
              "        document.querySelector('#df-e0038282-d469-41d7-85e8-04ccd08d9362 button');\n",
              "      quickchartButtonEl.style.display =\n",
              "        google.colab.kernel.accessAllowed ? 'block' : 'none';\n",
              "    })();\n",
              "  </script>\n",
              "</div>\n",
              "    </div>\n",
              "  </div>\n"
            ]
          },
          "metadata": {},
          "execution_count": 17
        }
      ]
    },
    {
      "cell_type": "code",
      "source": [
        "myanmar[myanmar.ST=='Sagaing'].plot()"
      ],
      "metadata": {
        "colab": {
          "base_uri": "https://localhost:8080/",
          "height": 448
        },
        "id": "FNz9n7-1XJl3",
        "outputId": "c5b0b9b7-a699-43a8-b838-bd065b33381e"
      },
      "execution_count": null,
      "outputs": [
        {
          "output_type": "execute_result",
          "data": {
            "text/plain": [
              "<Axes: >"
            ]
          },
          "metadata": {},
          "execution_count": 18
        },
        {
          "output_type": "display_data",
          "data": {
            "text/plain": [
              "<Figure size 640x480 with 1 Axes>"
            ],
            "image/png": "[encoded data removed]"
          },
          "metadata": {}
        }
      ]
    },
    {
      "cell_type": "code",
      "source": [
        "# sagaing division အား shp file အနေဖြင့် export ထုတ်ခြင်း\n",
        "sagaing=myanmar[myanmar.ST=='Sagaing']\n",
        "sagaing.to_file('sagaing.shp')\n",
        "# အဲ့လိုထုတ်လိုက်ရင် ကိုယ့်ရဲ့ drive ထဲကို export ထုတ်သွားမှာဖြစ်ပါတယ်။"
      ],
      "metadata": {
        "id": "DdDI-0b6XYPm"
      },
      "execution_count": null,
      "outputs": []
    },
    {
      "cell_type": "code",
      "source": [
        "# sagaing division အား geojson file အနေဖြင့် export ထုတ်ခြင်း\n",
        "sagaing.to_file('sagaing.geojson',driver='GeoJSON')"
      ],
      "metadata": {
        "id": "Jnrse1LeXpC9"
      },
      "execution_count": null,
      "outputs": []
    },
    {
      "cell_type": "code",
      "source": [
        "# sagaing division အား GeoPackage အနေဖြင့် export ထုတ်ခြင်း\n",
        "sagaing.to_file('sagaing.gpkg',layer='sagaing',driver='GPKG')"
      ],
      "metadata": {
        "id": "8Lo1GQCrXiiP"
      },
      "execution_count": null,
      "outputs": []
    }
  ]
}